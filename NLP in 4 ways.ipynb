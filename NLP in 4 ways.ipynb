{
 "cells": [
  {
   "cell_type": "markdown",
   "id": "9576305c-c26a-4e84-b262-c013444b3c44",
   "metadata": {
    "jp-MarkdownHeadingCollapsed": true
   },
   "source": [
    "## Naive Bayers 朴素贝叶斯法"
   ]
  },
  {
   "cell_type": "code",
   "execution_count": null,
   "id": "5d78fab0",
   "metadata": {},
   "outputs": [],
   "source": [
    "pip install --upgrade pandas openpyxl"
   ]
  },
  {
   "cell_type": "code",
   "execution_count": null,
   "id": "884f0a05",
   "metadata": {},
   "outputs": [],
   "source": [
    "import pandas as pd\n",
    "import jieba\n",
    "from sklearn.feature_extraction.text import CountVectorizer\n",
    "from sklearn.naive_bayes import MultinomialNB\n",
    "from sklearn.model_selection import train_test_split\n",
    "from sklearn.metrics import accuracy_score, precision_score, recall_score, f1_score"
   ]
  },
  {
   "cell_type": "code",
   "execution_count": null,
   "id": "9ae238b1",
   "metadata": {},
   "outputs": [],
   "source": [
    "data = pd.read_excel('Training_set.xlsx')\n",
    "predict_data = pd.read_excel('Predict.xlsx')"
   ]
  },
  {
   "cell_type": "code",
   "execution_count": null,
   "id": "7aef38ee",
   "metadata": {},
   "outputs": [],
   "source": [
    "data['comment'] = data['comment'].astype(str)\n",
    "predict_data['comment'] = predict_data['comment'].astype(str)"
   ]
  },
  {
   "cell_type": "code",
   "execution_count": null,
   "id": "13a0cb82",
   "metadata": {},
   "outputs": [],
   "source": [
    "def tokenize(text):\n",
    "    return ' '.join(jieba.cut(text))\n",
    "\n",
    "data['tokenized'] = data['comment'].apply(tokenize)\n",
    "predict_data['tokenized'] = predict_data['comment'].apply(tokenize)"
   ]
  },
  {
   "cell_type": "code",
   "execution_count": null,
   "id": "0f3be12a",
   "metadata": {},
   "outputs": [],
   "source": [
    "X = data['tokenized']\n",
    "y = data['sentiment']\n",
    "X_train, X_val, y_train, y_val = train_test_split(X, y, test_size=0.1, random_state=42)"
   ]
  },
  {
   "cell_type": "code",
   "execution_count": null,
   "id": "909c6a1b",
   "metadata": {},
   "outputs": [],
   "source": [
    "vectorizer = CountVectorizer()\n",
    "X_train_vec = vectorizer.fit_transform(X_train)\n",
    "X_val_vec = vectorizer.transform(X_val)"
   ]
  },
  {
   "cell_type": "code",
   "execution_count": null,
   "id": "9347bb06",
   "metadata": {},
   "outputs": [],
   "source": [
    "clf = MultinomialNB()\n",
    "clf.fit(X_train_vec, y_train)"
   ]
  },
  {
   "cell_type": "code",
   "execution_count": null,
   "id": "ea03910e",
   "metadata": {},
   "outputs": [],
   "source": [
    "y_pred = clf.predict(X_val_vec)\n",
    "\n",
    "print(\"Accuracy:\", accuracy_score(y_val, y_pred))\n",
    "print(\"Precision:\", precision_score(y_val, y_pred))\n",
    "print(\"Recall:\", recall_score(y_val, y_pred))\n",
    "print(\"F1-score:\", f1_score(y_val, y_pred))"
   ]
  },
  {
   "cell_type": "code",
   "execution_count": null,
   "id": "f3b5e914",
   "metadata": {},
   "outputs": [],
   "source": [
    "X_predict = vectorizer.transform(predict_data['tokenized'])\n",
    "predict_data['sentiment'] = clf.predict(X_predict)"
   ]
  },
  {
   "cell_type": "code",
   "execution_count": null,
   "id": "9c25d2a7",
   "metadata": {},
   "outputs": [],
   "source": [
    "predict_data[['comment', 'sentiment']].to_excel('Predict_with_sentiment.xlsx', index=False)"
   ]
  },
  {
   "cell_type": "markdown",
   "id": "c3a8e5dd-55ef-4383-8ecb-43fa26778e91",
   "metadata": {
    "jp-MarkdownHeadingCollapsed": true
   },
   "source": [
    "## Decision Tree 决策树"
   ]
  },
  {
   "cell_type": "code",
   "execution_count": null,
   "id": "4e58f1c2-7f1a-4c48-8e85-6196c45268f2",
   "metadata": {},
   "outputs": [],
   "source": [
    "import pandas as pd\n",
    "import jieba\n",
    "from sklearn.feature_extraction.text import CountVectorizer\n",
    "from sklearn.tree import DecisionTreeClassifier\n",
    "from sklearn.model_selection import train_test_split\n",
    "from sklearn.metrics import accuracy_score, precision_score, recall_score, f1_score"
   ]
  },
  {
   "cell_type": "code",
   "execution_count": null,
   "id": "78c7b510-3089-4569-96b2-32a260cec2cd",
   "metadata": {},
   "outputs": [],
   "source": [
    "data = pd.read_excel('Training_set.xlsx')\n",
    "predict_data = pd.read_excel('Predict.xlsx')"
   ]
  },
  {
   "cell_type": "code",
   "execution_count": null,
   "id": "3ca9db63-1cbc-4e31-8283-65633e790219",
   "metadata": {},
   "outputs": [],
   "source": [
    "data['comment'] = data['comment'].astype(str)\n",
    "predict_data['comment'] = predict_data['comment'].astype(str)\n",
    "\n",
    "def tokenize(text):\n",
    "    return ' '.join(jieba.cut(text))\n",
    "\n",
    "data['tokenized'] = data['comment'].apply(tokenize)\n",
    "predict_data['tokenized'] = predict_data['comment'].apply(tokenize)"
   ]
  },
  {
   "cell_type": "code",
   "execution_count": null,
   "id": "6a5aff05-fa47-4105-98d1-63d758cd0ca2",
   "metadata": {},
   "outputs": [],
   "source": [
    "X = data['tokenized']\n",
    "y = data['sentiment']\n",
    "X_train, X_val, y_train, y_val = train_test_split(X, y, test_size=0.1, random_state=42)"
   ]
  },
  {
   "cell_type": "code",
   "execution_count": null,
   "id": "192fa7e6-aaaa-41cc-9f3d-adb76ebd83b5",
   "metadata": {},
   "outputs": [],
   "source": [
    "vectorizer = CountVectorizer()\n",
    "X_train_vec = vectorizer.fit_transform(X_train)\n",
    "X_val_vec = vectorizer.transform(X_val)"
   ]
  },
  {
   "cell_type": "code",
   "execution_count": null,
   "id": "322ab2a8-5b2c-4fd6-8f06-727cd914bfe8",
   "metadata": {},
   "outputs": [],
   "source": [
    "clf = DecisionTreeClassifier(criterion='entropy')\n",
    "clf.fit(X_train_vec, y_train)"
   ]
  },
  {
   "cell_type": "markdown",
   "id": "ffc34efe-7323-493c-b4e6-46b8feaa8e94",
   "metadata": {},
   "source": [
    "* 你可以通过更改方法“entropy”为其他方法来构建不同的决策树（如：'gini'）"
   ]
  },
  {
   "cell_type": "code",
   "execution_count": null,
   "id": "d6bae220-8e53-46ff-97fc-2973aec4a4c0",
   "metadata": {},
   "outputs": [],
   "source": [
    "y_pred = clf.predict(X_val_vec)\n",
    "\n",
    "print(\"Accuracy:\", accuracy_score(y_val, y_pred))\n",
    "print(\"Precision:\", precision_score(y_val, y_pred))\n",
    "print(\"Recall:\", recall_score(y_val, y_pred))\n",
    "print(\"F1-score:\", f1_score(y_val, y_pred))"
   ]
  },
  {
   "cell_type": "code",
   "execution_count": null,
   "id": "1ff7d514-de44-4ebb-8367-af279a5d2ed2",
   "metadata": {},
   "outputs": [],
   "source": [
    "X_predict = vectorizer.transform(predict_data['tokenized'])\n",
    "predict_data['sentiment'] = clf.predict(X_predict)"
   ]
  },
  {
   "cell_type": "code",
   "execution_count": null,
   "id": "6ec6e1b4-8f0e-4016-936d-3ee4fb83dfb6",
   "metadata": {},
   "outputs": [],
   "source": [
    "predict_data[['comment', 'sentiment']].to_excel('Predict_with_sentiment.xlsx', index=False)"
   ]
  },
  {
   "cell_type": "markdown",
   "id": "6991076e-8fdd-4b90-831b-548710d7f855",
   "metadata": {
    "jp-MarkdownHeadingCollapsed": true
   },
   "source": [
    "## K-NN"
   ]
  },
  {
   "cell_type": "code",
   "execution_count": null,
   "id": "cada025c-2e1a-4790-86aa-1fab41c1abd3",
   "metadata": {},
   "outputs": [],
   "source": [
    "pip install --upgrade pandas openpyxl"
   ]
  },
  {
   "cell_type": "code",
   "execution_count": null,
   "id": "2c938cac-a65e-4c8a-a348-19ec5c795af2",
   "metadata": {},
   "outputs": [],
   "source": [
    "import pandas as pd\n",
    "import jieba\n",
    "from sklearn.feature_extraction.text import CountVectorizer\n",
    "from sklearn.neighbors import KNeighborsClassifier\n",
    "from sklearn.model_selection import train_test_split\n",
    "from sklearn.metrics import accuracy_score, precision_score, recall_score, f1_score"
   ]
  },
  {
   "cell_type": "code",
   "execution_count": null,
   "id": "a4328956-6795-46e0-84c2-262a7c819c25",
   "metadata": {},
   "outputs": [],
   "source": [
    "data = pd.read_excel('Training_set.xlsx')\n",
    "predict_data = pd.read_excel('Predict.xlsx')"
   ]
  },
  {
   "cell_type": "code",
   "execution_count": null,
   "id": "06600690-6459-4008-9ce0-070417ede515",
   "metadata": {},
   "outputs": [],
   "source": [
    "data['comment'] = data['comment'].astype(str)\n",
    "predict_data['comment'] = predict_data['comment'].astype(str)"
   ]
  },
  {
   "cell_type": "code",
   "execution_count": null,
   "id": "e817e786-f050-4d30-9709-04efe4548297",
   "metadata": {},
   "outputs": [],
   "source": [
    "def tokenize(text):\n",
    "    return ' '.join(jieba.cut(text))\n",
    "\n",
    "data['tokenized'] = data['comment'].apply(tokenize)\n",
    "predict_data['tokenized'] = predict_data['comment'].apply(tokenize)"
   ]
  },
  {
   "cell_type": "code",
   "execution_count": null,
   "id": "cdb6164f-966b-4986-9cac-64f15e80d997",
   "metadata": {},
   "outputs": [],
   "source": [
    "X = data['tokenized']\n",
    "y = data['sentiment']\n",
    "X_train, X_val, y_train, y_val = train_test_split(X, y, test_size=0.1, random_state=42)"
   ]
  },
  {
   "cell_type": "code",
   "execution_count": null,
   "id": "4457b2aa-b209-46a7-95fd-b593b3b2838a",
   "metadata": {},
   "outputs": [],
   "source": [
    "vectorizer = CountVectorizer()\n",
    "X_train_vec = vectorizer.fit_transform(X_train)\n",
    "X_val_vec = vectorizer.transform(X_val)"
   ]
  },
  {
   "cell_type": "code",
   "execution_count": null,
   "id": "04f40e1c-0e20-4174-bcc6-8760d82ac074",
   "metadata": {},
   "outputs": [],
   "source": [
    "knn = KNeighborsClassifier(n_neighbors=3)\n",
    "knn.fit(X_train_vec, y_train)\n",
    "\n",
    "y_pred = knn.predict(X_val_vec)"
   ]
  },
  {
   "cell_type": "code",
   "execution_count": null,
   "id": "b4b3be67-1b80-4cd7-b197-d260450ff3e9",
   "metadata": {},
   "outputs": [],
   "source": [
    "print(\"Accuracy:\", accuracy_score(y_val, y_pred))\n",
    "print(\"Precision:\", precision_score(y_val, y_pred, average='macro'))\n",
    "print(\"Recall:\", recall_score(y_val, y_pred, average='macro'))\n",
    "print(\"F1-score:\", f1_score(y_val, y_pred, average='macro'))"
   ]
  },
  {
   "cell_type": "code",
   "execution_count": null,
   "id": "5c3cd910-ac04-4e9c-8955-4882b91e25c9",
   "metadata": {},
   "outputs": [],
   "source": [
    "X_predict = vectorizer.transform(predict_data['tokenized'])\n",
    "predict_data['sentiment'] = knn.predict(X_predict)"
   ]
  },
  {
   "cell_type": "code",
   "execution_count": null,
   "id": "7d9d7c76-b895-445f-85bd-616f01b77482",
   "metadata": {},
   "outputs": [],
   "source": [
    "predict_data[['comment', 'sentiment']].to_excel('Predict_with_sentiment.xlsx', index=False)"
   ]
  },
  {
   "cell_type": "markdown",
   "id": "b5b5aa32-2c77-4848-9287-313061daf5c5",
   "metadata": {
    "jp-MarkdownHeadingCollapsed": true
   },
   "source": [
    "## Random Forest 随机森林"
   ]
  },
  {
   "cell_type": "code",
   "execution_count": null,
   "id": "a5d12fbc-2cf0-46e8-9924-837f33f63944",
   "metadata": {},
   "outputs": [],
   "source": [
    "import pandas as pd\n",
    "import jieba\n",
    "from sklearn.feature_extraction.text import CountVectorizer\n",
    "from sklearn.ensemble import RandomForestClassifier \n",
    "from sklearn.model_selection import train_test_split\n",
    "from sklearn.metrics import accuracy_score, precision_score, recall_score, f1_score"
   ]
  },
  {
   "cell_type": "code",
   "execution_count": null,
   "id": "7c4f1a61-45db-4e43-92bc-af3dd253a663",
   "metadata": {},
   "outputs": [],
   "source": [
    "data = pd.read_excel('Training_set.xlsx')\n",
    "predict_data = pd.read_excel('Predict.xlsx')"
   ]
  },
  {
   "cell_type": "code",
   "execution_count": null,
   "id": "9034cd03-ee61-4cf7-9095-4534f0017319",
   "metadata": {},
   "outputs": [],
   "source": [
    "data['comment'] = data['comment'].astype(str)\n",
    "predict_data['comment'] = predict_data['comment'].astype(str)"
   ]
  },
  {
   "cell_type": "code",
   "execution_count": null,
   "id": "ea6a9d88-c268-45c2-98fd-561d8c22636b",
   "metadata": {},
   "outputs": [],
   "source": [
    "def tokenize(text):\n",
    "    return ' '.join(jieba.cut(text))\n",
    "\n",
    "data['tokenized'] = data['comment'].apply(tokenize)\n",
    "predict_data['tokenized'] = predict_data['comment'].apply(tokenize)"
   ]
  },
  {
   "cell_type": "code",
   "execution_count": null,
   "id": "7625d200-3265-44ee-bfe9-4476a970e235",
   "metadata": {},
   "outputs": [],
   "source": [
    "X = data['tokenized']\n",
    "y = data['sentiment']\n",
    "X_train, X_val, y_train, y_val = train_test_split(X, y, test_size=0.1, random_state=42)"
   ]
  },
  {
   "cell_type": "code",
   "execution_count": null,
   "id": "3f744c8d-3dc6-448d-af14-500e44ac74a9",
   "metadata": {},
   "outputs": [],
   "source": [
    "vectorizer = CountVectorizer()\n",
    "X_train_vec = vectorizer.fit_transform(X_train)\n",
    "X_val_vec = vectorizer.transform(X_val)"
   ]
  },
  {
   "cell_type": "code",
   "execution_count": null,
   "id": "59d52fcb-c848-4f46-8967-9b1bdfea10ea",
   "metadata": {},
   "outputs": [],
   "source": [
    "random_forest = RandomForestClassifier(n_estimators=100, random_state=42)\n",
    "random_forest.fit(X_train_vec, y_train)\n",
    "\n",
    "y_pred = random_forest.predict(X_val_vec)"
   ]
  },
  {
   "cell_type": "code",
   "execution_count": null,
   "id": "8716d242-5816-4301-b31b-bbfad90d17f4",
   "metadata": {},
   "outputs": [],
   "source": [
    "print(\"Accuracy:\", accuracy_score(y_val, y_pred))\n",
    "print(\"Precision:\", precision_score(y_val, y_pred, average='macro'))\n",
    "print(\"Recall:\", recall_score(y_val, y_pred, average='macro'))\n",
    "print(\"F1-score:\", f1_score(y_val, y_pred, average='macro'))"
   ]
  },
  {
   "cell_type": "code",
   "execution_count": null,
   "id": "5c73ee66-f7d6-48d9-85a9-64673a49b94b",
   "metadata": {},
   "outputs": [],
   "source": [
    "X_predict = vectorizer.transform(predict_data['tokenized'])\n",
    "predict_data['sentiment'] = random_forest.predict(X_predict)"
   ]
  },
  {
   "cell_type": "code",
   "execution_count": null,
   "id": "ab7e9d83-fd9e-4f30-b304-03505ded8b5e",
   "metadata": {},
   "outputs": [],
   "source": [
    "predict_data[['comment', 'sentiment']].to_excel('Predict_with_sentiment.xlsx', index=False)"
   ]
  },
  {
   "cell_type": "markdown",
   "id": "ab98c38e-e6fe-42f0-9dfb-522a0aedeaa5",
   "metadata": {
    "jp-MarkdownHeadingCollapsed": true
   },
   "source": [
    "## 对比四种不同方法"
   ]
  },
  {
   "cell_type": "code",
   "execution_count": null,
   "id": "58ef02d2-709a-4a0b-b077-429692df700b",
   "metadata": {},
   "outputs": [],
   "source": [
    "import pandas as pd\n",
    "import jieba\n",
    "from sklearn.feature_extraction.text import CountVectorizer\n",
    "from sklearn.model_selection import train_test_split\n",
    "from sklearn.metrics import accuracy_score, precision_score, recall_score, f1_score\n",
    "from sklearn.linear_model import LogisticRegression\n",
    "from sklearn.naive_bayes import MultinomialNB\n",
    "from sklearn.tree import DecisionTreeClassifier\n",
    "from sklearn.ensemble import RandomForestClassifier"
   ]
  },
  {
   "cell_type": "code",
   "execution_count": null,
   "id": "6cc62fc1-19f6-4912-9011-4b41c4884cde",
   "metadata": {},
   "outputs": [],
   "source": [
    "data = pd.read_excel('Training_set.xlsx')\n",
    "predict_data = pd.read_excel('Predict.xlsx')"
   ]
  },
  {
   "cell_type": "code",
   "execution_count": null,
   "id": "56fb977c-a2fe-4181-8923-f29fba6db0be",
   "metadata": {},
   "outputs": [],
   "source": [
    "data['comment'] = data['comment'].astype(str)\n",
    "predict_data['comment'] = predict_data['comment'].astype(str)"
   ]
  },
  {
   "cell_type": "code",
   "execution_count": null,
   "id": "618a60b2-c683-4fa2-bd6c-1774c485193d",
   "metadata": {},
   "outputs": [],
   "source": [
    "def tokenize(text):\n",
    "    return ' '.join(jieba.cut(text))\n",
    "\n",
    "data['tokenized'] = data['comment'].apply(tokenize)\n",
    "predict_data['tokenized'] = predict_data['comment'].apply(tokenize)"
   ]
  },
  {
   "cell_type": "code",
   "execution_count": null,
   "id": "30aea82d-fa9c-479c-936d-e349197b5005",
   "metadata": {},
   "outputs": [],
   "source": [
    "X = data['tokenized']\n",
    "y = data['sentiment']\n",
    "X_train, X_val, y_train, y_val = train_test_split(X, y, test_size=0.1, random_state=42)"
   ]
  },
  {
   "cell_type": "code",
   "execution_count": null,
   "id": "f7fa5571-bb02-4706-8ad6-1136b83161b0",
   "metadata": {},
   "outputs": [],
   "source": [
    "vectorizer = CountVectorizer()\n",
    "X_train_vec = vectorizer.fit_transform(X_train)\n",
    "X_val_vec = vectorizer.transform(X_val)"
   ]
  },
  {
   "cell_type": "code",
   "execution_count": null,
   "id": "5f57c210-c5b1-479d-9b40-ab6dcb88ffac",
   "metadata": {},
   "outputs": [],
   "source": [
    "models = [\n",
    "    ('Logistic Regression', LogisticRegression()),\n",
    "    ('Naive Bayes', MultinomialNB()),\n",
    "    ('Decision Tree', DecisionTreeClassifier()),\n",
    "    ('Random Forest', RandomForestClassifier())\n",
    "]"
   ]
  },
  {
   "cell_type": "code",
   "execution_count": null,
   "id": "5275223e-4299-4e76-97ef-68d13f01b9bf",
   "metadata": {},
   "outputs": [],
   "source": [
    "results = []\n",
    "trained_models = []\n",
    "\n",
    "for name, model in models:\n",
    "    model.fit(X_train_vec, y_train)\n",
    "    trained_models.append((name, model))\n",
    "    \n",
    "    y_pred = model.predict(X_val_vec)\n",
    "    \n",
    "    accuracy = accuracy_score(y_val, y_pred)\n",
    "    precision = precision_score(y_val, y_pred)\n",
    "    recall = recall_score(y_val, y_pred)\n",
    "    f1 = f1_score(y_val, y_pred)\n",
    "    \n",
    "    results.append([name, accuracy, precision, recall, f1])"
   ]
  },
  {
   "cell_type": "code",
   "execution_count": null,
   "id": "5446805a-3c9d-4248-aa63-943f232cf12f",
   "metadata": {},
   "outputs": [],
   "source": [
    "results_df = pd.DataFrame(results, columns=['Model', 'Accuracy', 'Precision', 'Recall', 'F1-score'])\n",
    "print(results_df.to_string(index=False))"
   ]
  },
  {
   "cell_type": "code",
   "execution_count": null,
   "id": "b59aa067-dd63-4fd7-aa90-9e5850a6680c",
   "metadata": {},
   "outputs": [],
   "source": [
    "X_predict = vectorizer.transform(predict_data['tokenized'])\n",
    "\n",
    "for name, model in trained_models:\n",
    "    predict_data[f'sentiment_{name}'] = model.predict(X_predict)"
   ]
  },
  {
   "cell_type": "code",
   "execution_count": null,
   "id": "aabbdc01-3ed1-4159-8842-6c0aff11268f",
   "metadata": {},
   "outputs": [],
   "source": [
    "predict_data.to_excel('Predict_with_sentiment1.xlsx', index=False)"
   ]
  }
 ],
 "metadata": {
  "kernelspec": {
   "display_name": "Python 3 (ipykernel)",
   "language": "python",
   "name": "python3"
  },
  "language_info": {
   "codemirror_mode": {
    "name": "ipython",
    "version": 3
   },
   "file_extension": ".py",
   "mimetype": "text/x-python",
   "name": "python",
   "nbconvert_exporter": "python",
   "pygments_lexer": "ipython3",
   "version": "3.9.19"
  }
 },
 "nbformat": 4,
 "nbformat_minor": 5
}
